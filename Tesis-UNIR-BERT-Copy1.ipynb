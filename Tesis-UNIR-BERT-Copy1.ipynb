{
 "cells": [
  {
   "cell_type": "markdown",
   "id": "6dfea0e3-7dfd-45b4-b05e-f53934200ab5",
   "metadata": {},
   "source": [
    "## Tesis CCS COMPUTACIÓN UNSA\n",
    "#### Ing. Vargas Mauricio"
   ]
  },
  {
   "cell_type": "code",
   "execution_count": 1,
   "id": "507447f4-5ab1-4ae0-9e2f-f2b7b7cae508",
   "metadata": {},
   "outputs": [
    {
     "name": "stdout",
     "output_type": "stream",
     "text": [
      "F:\\Maestria\\TESIS\n"
     ]
    }
   ],
   "source": [
    "cd F:\\Maestria\\TESIS\\"
   ]
  },
  {
   "cell_type": "code",
   "execution_count": 8,
   "id": "681024ce-f4b3-4e82-afdb-26b6855d0a84",
   "metadata": {},
   "outputs": [],
   "source": [
    "import tensorflow as tf\n",
    "from transformers import TFDistilBertForSequenceClassification, DistilBertTokenizerFast, TFTrainer, TFTrainingArguments\n",
    "\n",
    "from sklearn.metrics import classification_report\n",
    "from sklearn.model_selection import train_test_split\n",
    "\n",
    "from tensorflow.keras.optimizers import Adam\n",
    "\n",
    "import numpy as np\n",
    "from sklearn.metrics import classification_report\n",
    "\n",
    "import pandas as pd\n",
    "\n",
    "import re"
   ]
  },
  {
   "cell_type": "code",
   "execution_count": 9,
   "id": "93df5e12-73dc-4bb6-91c0-fe2b7e4ac48b",
   "metadata": {},
   "outputs": [
    {
     "name": "stdout",
     "output_type": "stream",
     "text": [
      "Num GPUs Available: 1\n"
     ]
    }
   ],
   "source": [
    "import tensorflow as tf\n",
    "print(\"Num GPUs Available:\", len(tf.config.list_physical_devices('GPU')))"
   ]
  },
  {
   "cell_type": "code",
   "execution_count": 10,
   "id": "c346be8b-37ec-4265-ad4a-8af5ea039118",
   "metadata": {},
   "outputs": [
    {
     "name": "stdout",
     "output_type": "stream",
     "text": [
      "64_8\n"
     ]
    }
   ],
   "source": [
    "import tensorflow as tf\n",
    "print(tf.sysconfig.get_build_info()['cudnn_version'])"
   ]
  },
  {
   "cell_type": "code",
   "execution_count": 11,
   "id": "ddc2ef9f-2a14-48fc-960a-bb06baeb3eb7",
   "metadata": {},
   "outputs": [
    {
     "name": "stdout",
     "output_type": "stream",
     "text": [
      "True\n",
      "[PhysicalDevice(name='/physical_device:GPU:0', device_type='GPU')]\n"
     ]
    }
   ],
   "source": [
    "import tensorflow as tf\n",
    "print(tf.test.is_built_with_cuda())\n",
    "print(tf.config.list_physical_devices('GPU'))"
   ]
  },
  {
   "cell_type": "code",
   "execution_count": 12,
   "id": "b5095e3a-a0ff-443f-b30a-e3dde00ccec2",
   "metadata": {},
   "outputs": [
    {
     "data": {
      "text/html": [
       "<div>\n",
       "<style scoped>\n",
       "    .dataframe tbody tr th:only-of-type {\n",
       "        vertical-align: middle;\n",
       "    }\n",
       "\n",
       "    .dataframe tbody tr th {\n",
       "        vertical-align: top;\n",
       "    }\n",
       "\n",
       "    .dataframe thead th {\n",
       "        text-align: right;\n",
       "    }\n",
       "</style>\n",
       "<table border=\"1\" class=\"dataframe\">\n",
       "  <thead>\n",
       "    <tr style=\"text-align: right;\">\n",
       "      <th></th>\n",
       "      <th>Unnamed: 0</th>\n",
       "      <th>full_text</th>\n",
       "      <th>POS</th>\n",
       "      <th>clean_text</th>\n",
       "      <th>label</th>\n",
       "      <th>text_changed</th>\n",
       "    </tr>\n",
       "  </thead>\n",
       "  <tbody>\n",
       "    <tr>\n",
       "      <th>0</th>\n",
       "      <td>0</td>\n",
       "      <td>Sin ser fan de Juan Gabriel, siempre supe que ...</td>\n",
       "      <td>P</td>\n",
       "      <td>fan juan gabriel supe fuerza naturaleza escuch...</td>\n",
       "      <td>2</td>\n",
       "      <td>fan juan gabriel supe  naturaleza escuche quer...</td>\n",
       "    </tr>\n",
       "    <tr>\n",
       "      <th>1</th>\n",
       "      <td>1</td>\n",
       "      <td>Sabes que no tendrás un buen día cuando lo pri...</td>\n",
       "      <td>N</td>\n",
       "      <td>tendras ana tratar cambiar foco cae cara</td>\n",
       "      <td>0</td>\n",
       "      <td>tendras ana tratar cambiar foco cae  caradura</td>\n",
       "    </tr>\n",
       "    <tr>\n",
       "      <th>2</th>\n",
       "      <td>2</td>\n",
       "      <td>En situaciones en las que no sepas que hacer, ...</td>\n",
       "      <td>N</td>\n",
       "      <td>situaciones sepas sumergete podras escuchar al...</td>\n",
       "      <td>0</td>\n",
       "      <td>situaciones situaciones sepas sumergete podra...</td>\n",
       "    </tr>\n",
       "    <tr>\n",
       "      <th>3</th>\n",
       "      <td>3</td>\n",
       "      <td>ayer preguntaban y dónde están las solteras!!!...</td>\n",
       "      <td>NEU</td>\n",
       "      <td>preguntaban solteras grupo alza mano unica vol...</td>\n",
       "      <td>1</td>\n",
       "      <td>preguntaban solteras grupo  alza alza alza man...</td>\n",
       "    </tr>\n",
       "    <tr>\n",
       "      <th>4</th>\n",
       "      <td>4</td>\n",
       "      <td>Que el finde sea para hacer cualquier cosa que...</td>\n",
       "      <td>NEU</td>\n",
       "      <td>finde cosa haga feliz reverenda gana</td>\n",
       "      <td>1</td>\n",
       "      <td>finde  elemento haga feliz reverenda gana</td>\n",
       "    </tr>\n",
       "  </tbody>\n",
       "</table>\n",
       "</div>"
      ],
      "text/plain": [
       "   Unnamed: 0                                          full_text  POS  \\\n",
       "0           0  Sin ser fan de Juan Gabriel, siempre supe que ...    P   \n",
       "1           1  Sabes que no tendrás un buen día cuando lo pri...    N   \n",
       "2           2  En situaciones en las que no sepas que hacer, ...    N   \n",
       "3           3  ayer preguntaban y dónde están las solteras!!!...  NEU   \n",
       "4           4  Que el finde sea para hacer cualquier cosa que...  NEU   \n",
       "\n",
       "                                          clean_text  label  \\\n",
       "0  fan juan gabriel supe fuerza naturaleza escuch...      2   \n",
       "1           tendras ana tratar cambiar foco cae cara      0   \n",
       "2  situaciones sepas sumergete podras escuchar al...      0   \n",
       "3  preguntaban solteras grupo alza mano unica vol...      1   \n",
       "4               finde cosa haga feliz reverenda gana      1   \n",
       "\n",
       "                                        text_changed  \n",
       "0  fan juan gabriel supe  naturaleza escuche quer...  \n",
       "1      tendras ana tratar cambiar foco cae  caradura  \n",
       "2   situaciones situaciones sepas sumergete podra...  \n",
       "3  preguntaban solteras grupo  alza alza alza man...  \n",
       "4          finde  elemento haga feliz reverenda gana  "
      ]
     },
     "execution_count": 12,
     "metadata": {},
     "output_type": "execute_result"
    }
   ],
   "source": [
    "df= pd.read_csv('./BD_POL/data_extended.csv')\n",
    "df.head()"
   ]
  },
  {
   "cell_type": "code",
   "execution_count": 13,
   "id": "195cb28a-17e1-4439-a49b-266e8e4119ed",
   "metadata": {},
   "outputs": [],
   "source": [
    "df_w = df[[\"label\", \"text_changed\"]]"
   ]
  },
  {
   "cell_type": "code",
   "execution_count": 14,
   "id": "7ea478a1-6b03-4b25-b9c7-0fffa2768f52",
   "metadata": {},
   "outputs": [
    {
     "name": "stderr",
     "output_type": "stream",
     "text": [
      "C:\\Users\\MSVF9\\anaconda3\\envs\\ultima_cosa2_UNIR\\lib\\site-packages\\ipykernel_launcher.py:1: SettingWithCopyWarning: \n",
      "A value is trying to be set on a copy of a slice from a DataFrame.\n",
      "Try using .loc[row_indexer,col_indexer] = value instead\n",
      "\n",
      "See the caveats in the documentation: https://pandas.pydata.org/pandas-docs/stable/user_guide/indexing.html#returning-a-view-versus-a-copy\n",
      "  \"\"\"Entry point for launching an IPython kernel.\n",
      "C:\\Users\\MSVF9\\anaconda3\\envs\\ultima_cosa2_UNIR\\lib\\site-packages\\ipykernel_launcher.py:2: FutureWarning: The default value of regex will change from True to False in a future version.\n",
      "  \n",
      "C:\\Users\\MSVF9\\anaconda3\\envs\\ultima_cosa2_UNIR\\lib\\site-packages\\ipykernel_launcher.py:2: SettingWithCopyWarning: \n",
      "A value is trying to be set on a copy of a slice from a DataFrame.\n",
      "Try using .loc[row_indexer,col_indexer] = value instead\n",
      "\n",
      "See the caveats in the documentation: https://pandas.pydata.org/pandas-docs/stable/user_guide/indexing.html#returning-a-view-versus-a-copy\n",
      "  \n",
      "C:\\Users\\MSVF9\\anaconda3\\envs\\ultima_cosa2_UNIR\\lib\\site-packages\\ipykernel_launcher.py:7: SettingWithCopyWarning: \n",
      "A value is trying to be set on a copy of a slice from a DataFrame.\n",
      "Try using .loc[row_indexer,col_indexer] = value instead\n",
      "\n",
      "See the caveats in the documentation: https://pandas.pydata.org/pandas-docs/stable/user_guide/indexing.html#returning-a-view-versus-a-copy\n",
      "  import sys\n"
     ]
    }
   ],
   "source": [
    "df_w['text_changed'] = df_w['text_changed'].str.lower()\n",
    "df_w[\"text_changed\"] = df_w[\"text_changed\"].str.replace(r'\\s*https?://\\S+(\\s+|$)', ' ').str.strip()\n",
    "df_w['text_changed'] = df_w['text_changed'].str.replace(\n",
    "    r'[^a-z0-9\\s]',\n",
    "    '',\n",
    "    regex=True,\n",
    "    flags=re.IGNORECASE\n",
    ")\n",
    "df_w = df_w.dropna()"
   ]
  },
  {
   "cell_type": "code",
   "execution_count": 15,
   "id": "2cd516e8-1d2a-412d-a55a-5afcbd00772c",
   "metadata": {},
   "outputs": [
    {
     "data": {
      "text/plain": [
       "(36117, 2)"
      ]
     },
     "execution_count": 15,
     "metadata": {},
     "output_type": "execute_result"
    }
   ],
   "source": [
    "df_w.shape"
   ]
  },
  {
   "cell_type": "code",
   "execution_count": 16,
   "id": "633ac375-caaa-435c-bc2f-d2de765fb0d2",
   "metadata": {},
   "outputs": [],
   "source": [
    "df_w = df_w.sample(frac=1, random_state = 1) \n",
    "# df_w = df_w[:20000]"
   ]
  },
  {
   "cell_type": "code",
   "execution_count": 17,
   "id": "7a9fdf46-fad3-4e96-ae8f-fb24f94d8bad",
   "metadata": {},
   "outputs": [],
   "source": [
    "df_train = df_w[:22000]\n",
    "df_val = df_w[22000:30000]\n",
    "df_test = df_w[30000:]"
   ]
  },
  {
   "cell_type": "code",
   "execution_count": 18,
   "id": "272bc071-ddc6-4d1a-b63c-1ea3cb0d3346",
   "metadata": {},
   "outputs": [
    {
     "data": {
      "text/plain": [
       "(6117, 2)"
      ]
     },
     "execution_count": 18,
     "metadata": {},
     "output_type": "execute_result"
    }
   ],
   "source": [
    "df_test.shape"
   ]
  },
  {
   "cell_type": "markdown",
   "id": "838f7f59-bcf6-49e8-b040-af1f6c7b4368",
   "metadata": {},
   "source": [
    "### Crear Tokens y Tensorizar"
   ]
  },
  {
   "cell_type": "code",
   "execution_count": 43,
   "id": "9719ee6c-ed88-4252-83a4-adbb3bc8c07f",
   "metadata": {},
   "outputs": [],
   "source": [
    "from transformers import DistilBertTokenizerFast\n",
    "import tensorflow as tf\n",
    "\n",
    "tokenizer = DistilBertTokenizerFast.from_pretrained(\"distilbert-base-multilingual-cased\")\n",
    "\n",
    "def tokenize_dataframe(df):\n",
    "    tokens = tokenizer(\n",
    "        list(df[\"text_changed\"]),\n",
    "        padding=\"max_length\",\n",
    "        truncation=True,\n",
    "        max_length=128,\n",
    "        return_tensors=\"np\"\n",
    "    )\n",
    "    return tokens, df[\"label\"].astype(\"int32\").values\n",
    "    \n",
    "def build_dataset(tokens, labels, batch_size=32, shuffle=True):\n",
    "    dataset = tf.data.Dataset.from_tensor_slices(({\n",
    "        \"input_ids\": tf.convert_to_tensor(tokens[\"input_ids\"]),\n",
    "        \"attention_mask\": tf.convert_to_tensor(tokens[\"attention_mask\"])\n",
    "    }, tf.convert_to_tensor(labels)))\n",
    "    \n",
    "    if shuffle:\n",
    "        dataset = dataset.shuffle(1000)\n",
    "    return dataset.batch(batch_size)"
   ]
  },
  {
   "cell_type": "code",
   "execution_count": 45,
   "id": "d56384cd-6c82-4e25-9974-33c5313c99ae",
   "metadata": {},
   "outputs": [
    {
     "name": "stderr",
     "output_type": "stream",
     "text": [
      "Some layers from the model checkpoint at distilbert-base-multilingual-cased were not used when initializing TFDistilBertForSequenceClassification: ['vocab_projector', 'vocab_transform', 'vocab_layer_norm', 'activation_13']\n",
      "- This IS expected if you are initializing TFDistilBertForSequenceClassification from the checkpoint of a model trained on another task or with another architecture (e.g. initializing a BertForSequenceClassification model from a BertForPreTraining model).\n",
      "- This IS NOT expected if you are initializing TFDistilBertForSequenceClassification from the checkpoint of a model that you expect to be exactly identical (initializing a BertForSequenceClassification model from a BertForSequenceClassification model).\n",
      "Some layers of TFDistilBertForSequenceClassification were not initialized from the model checkpoint at distilbert-base-multilingual-cased and are newly initialized: ['dropout_79', 'pre_classifier', 'classifier']\n",
      "You should probably TRAIN this model on a down-stream task to be able to use it for predictions and inference.\n"
     ]
    },
    {
     "name": "stdout",
     "output_type": "stream",
     "text": [
      "Epoch 1/20\n",
      "WARNING:tensorflow:The parameters `output_attentions`, `output_hidden_states` and `use_cache` cannot be updated when calling a model.They have to be set to True/False in the config object (i.e.: `config=XConfig.from_pretrained('name', output_attentions=True)`).\n",
      "WARNING:tensorflow:The parameter `return_dict` cannot be set in graph mode and will always be set to `True`.\n",
      "WARNING:tensorflow:The parameters `output_attentions`, `output_hidden_states` and `use_cache` cannot be updated when calling a model.They have to be set to True/False in the config object (i.e.: `config=XConfig.from_pretrained('name', output_attentions=True)`).\n",
      "WARNING:tensorflow:The parameter `return_dict` cannot be set in graph mode and will always be set to `True`.\n",
      "688/688 [==============================] - ETA: 0s - loss: 0.5759 - accuracy: 0.7614WARNING:tensorflow:The parameters `output_attentions`, `output_hidden_states` and `use_cache` cannot be updated when calling a model.They have to be set to True/False in the config object (i.e.: `config=XConfig.from_pretrained('name', output_attentions=True)`).\n",
      "WARNING:tensorflow:The parameter `return_dict` cannot be set in graph mode and will always be set to `True`.\n",
      "688/688 [==============================] - 103s 146ms/step - loss: 0.5759 - accuracy: 0.7614 - val_loss: 0.2910 - val_accuracy: 0.8985\n",
      "Epoch 2/20\n",
      "688/688 [==============================] - 100s 145ms/step - loss: 0.1719 - accuracy: 0.9390 - val_loss: 0.1588 - val_accuracy: 0.9484\n",
      "Epoch 3/20\n",
      "688/688 [==============================] - 100s 145ms/step - loss: 0.0919 - accuracy: 0.9662 - val_loss: 0.1295 - val_accuracy: 0.9578\n",
      "Epoch 4/20\n",
      "688/688 [==============================] - 100s 145ms/step - loss: 0.0649 - accuracy: 0.9755 - val_loss: 0.1305 - val_accuracy: 0.9607\n",
      "Epoch 5/20\n",
      "688/688 [==============================] - 100s 146ms/step - loss: 0.0525 - accuracy: 0.9813 - val_loss: 0.1246 - val_accuracy: 0.9619\n",
      "Epoch 6/20\n",
      "688/688 [==============================] - 100s 146ms/step - loss: 0.0518 - accuracy: 0.9801 - val_loss: 0.1533 - val_accuracy: 0.9567\n",
      "Epoch 7/20\n",
      "688/688 [==============================] - 100s 145ms/step - loss: 0.0391 - accuracy: 0.9845 - val_loss: 0.1388 - val_accuracy: 0.9645\n",
      "Epoch 8/20\n",
      "688/688 [==============================] - 99s 145ms/step - loss: 0.0365 - accuracy: 0.9846 - val_loss: 0.1107 - val_accuracy: 0.9682\n",
      "Epoch 9/20\n",
      "688/688 [==============================] - 100s 145ms/step - loss: 0.0407 - accuracy: 0.9837 - val_loss: 0.1320 - val_accuracy: 0.9632\n",
      "Epoch 10/20\n",
      "688/688 [==============================] - 99s 145ms/step - loss: 0.0345 - accuracy: 0.9855 - val_loss: 0.1166 - val_accuracy: 0.9676\n",
      "Epoch 11/20\n",
      "688/688 [==============================] - 100s 145ms/step - loss: 0.0307 - accuracy: 0.9878 - val_loss: 0.1185 - val_accuracy: 0.9704\n",
      "Epoch 12/20\n",
      "688/688 [==============================] - 100s 145ms/step - loss: 0.0314 - accuracy: 0.9865 - val_loss: 0.1298 - val_accuracy: 0.9694\n",
      "Epoch 13/20\n",
      "688/688 [==============================] - 100s 145ms/step - loss: 0.0329 - accuracy: 0.9864 - val_loss: 0.1370 - val_accuracy: 0.9624\n",
      "Epoch 14/20\n",
      "688/688 [==============================] - 100s 145ms/step - loss: 0.0307 - accuracy: 0.9868 - val_loss: 0.1157 - val_accuracy: 0.9694\n",
      "Epoch 15/20\n",
      "688/688 [==============================] - 100s 145ms/step - loss: 0.0279 - accuracy: 0.9874 - val_loss: 0.1193 - val_accuracy: 0.9714\n",
      "Epoch 16/20\n",
      "688/688 [==============================] - 100s 145ms/step - loss: 0.0260 - accuracy: 0.9890 - val_loss: 0.1337 - val_accuracy: 0.9703\n",
      "Epoch 17/20\n",
      "688/688 [==============================] - 99s 145ms/step - loss: 0.0271 - accuracy: 0.9889 - val_loss: 0.1368 - val_accuracy: 0.9684\n",
      "Epoch 18/20\n",
      "688/688 [==============================] - 100s 145ms/step - loss: 0.0265 - accuracy: 0.9876 - val_loss: 0.1349 - val_accuracy: 0.9704\n",
      "Epoch 19/20\n",
      "688/688 [==============================] - 100s 145ms/step - loss: 0.0269 - accuracy: 0.9885 - val_loss: 0.1487 - val_accuracy: 0.9641\n",
      "Epoch 20/20\n",
      "688/688 [==============================] - 100s 145ms/step - loss: 0.0265 - accuracy: 0.9885 - val_loss: 0.1357 - val_accuracy: 0.9682\n"
     ]
    },
    {
     "data": {
      "text/plain": [
       "<keras.callbacks.History at 0x2b8b4e64e48>"
      ]
     },
     "execution_count": 45,
     "metadata": {},
     "output_type": "execute_result"
    }
   ],
   "source": [
    "from transformers import TFDistilBertForSequenceClassification\n",
    "from tensorflow.keras.optimizers import Adam\n",
    "from tensorflow.keras.losses import SparseCategoricalCrossentropy\n",
    "\n",
    "model = TFDistilBertForSequenceClassification.from_pretrained(\"distilbert-base-multilingual-cased\", num_labels=3)\n",
    "\n",
    "optimizer = Adam(learning_rate=5e-5)\n",
    "loss = SparseCategoricalCrossentropy(from_logits=True)\n",
    "\n",
    "model.compile(optimizer=optimizer, loss=loss, metrics=[\"accuracy\"])\n",
    "\n",
    "    # primero tokeniza\n",
    "X_train, y_train = tokenize_dataframe(df_train)\n",
    "X_val, y_val = tokenize_dataframe(df_val)\n",
    "    # segundo tensoriza\n",
    "train_dataset = build_dataset(X_train, y_train)\n",
    "val_dataset = build_dataset(X_val, y_val, shuffle=False)\n",
    "\n",
    "model.fit(train_dataset, validation_data=val_dataset, epochs=20, batch_size=16)\n"
   ]
  },
  {
   "cell_type": "code",
   "execution_count": 46,
   "id": "8faaaee0-19a3-442e-8cdc-c8fade4b522c",
   "metadata": {},
   "outputs": [
    {
     "data": {
      "text/plain": [
       "('modelo_finetune\\\\tokenizer_config.json',\n",
       " 'modelo_finetune\\\\special_tokens_map.json',\n",
       " 'modelo_finetune\\\\vocab.txt',\n",
       " 'modelo_finetune\\\\added_tokens.json',\n",
       " 'modelo_finetune\\\\tokenizer.json')"
      ]
     },
     "execution_count": 46,
     "metadata": {},
     "output_type": "execute_result"
    }
   ],
   "source": [
    "# Guardar el modelo\n",
    "model.save_pretrained(\"modelo_finetune\")\n",
    "tokenizer.save_pretrained(\"modelo_finetune\")"
   ]
  },
  {
   "cell_type": "markdown",
   "id": "3315944f-a3a1-4913-9ee7-93445c9b1e0b",
   "metadata": {},
   "source": [
    "## Test del modelo"
   ]
  },
  {
   "cell_type": "code",
   "execution_count": 5,
   "id": "94f794c2-7420-4d58-a067-b2db85373126",
   "metadata": {},
   "outputs": [
    {
     "name": "stdout",
     "output_type": "stream",
     "text": [
      "F:\\Maestria\\TESIS\n"
     ]
    }
   ],
   "source": [
    "## Asegurese de estar en el lugar donde se guardó el modelo entrenado\n",
    "cd F:\\Maestria\\TESIS\\"
   ]
  },
  {
   "cell_type": "code",
   "execution_count": 6,
   "id": "3b1cf872-4fa8-4bbf-b681-0367714ed17e",
   "metadata": {},
   "outputs": [
    {
     "name": "stderr",
     "output_type": "stream",
     "text": [
      "Some layers from the model checkpoint at modelo_finetune were not used when initializing TFDistilBertForSequenceClassification: ['dropout_79']\n",
      "- This IS expected if you are initializing TFDistilBertForSequenceClassification from the checkpoint of a model trained on another task or with another architecture (e.g. initializing a BertForSequenceClassification model from a BertForPreTraining model).\n",
      "- This IS NOT expected if you are initializing TFDistilBertForSequenceClassification from the checkpoint of a model that you expect to be exactly identical (initializing a BertForSequenceClassification model from a BertForSequenceClassification model).\n",
      "Some layers of TFDistilBertForSequenceClassification were not initialized from the model checkpoint at modelo_finetune and are newly initialized: ['dropout_19']\n",
      "You should probably TRAIN this model on a down-stream task to be able to use it for predictions and inference.\n"
     ]
    }
   ],
   "source": [
    "from transformers import TFDistilBertForSequenceClassification, DistilBertTokenizerFast\n",
    "\n",
    "model = TFDistilBertForSequenceClassification.from_pretrained(\"modelo_finetune\")\n",
    "tokenizer = DistilBertTokenizerFast.from_pretrained(\"modelo_finetune\")"
   ]
  },
  {
   "cell_type": "code",
   "execution_count": 19,
   "id": "46b9a3eb-ab11-41ac-8223-3df9d967d942",
   "metadata": {},
   "outputs": [
    {
     "name": "stdout",
     "output_type": "stream",
     "text": [
      "WARNING:tensorflow:The parameters `output_attentions`, `output_hidden_states` and `use_cache` cannot be updated when calling a model.They have to be set to True/False in the config object (i.e.: `config=XConfig.from_pretrained('name', output_attentions=True)`).\n",
      "WARNING:tensorflow:AutoGraph could not transform <bound method Socket.send of <zmq.Socket(zmq.PUSH) at 0x28efe7f0a08>> and will run it as-is.\n",
      "Please report this to the TensorFlow team. When filing the bug, set the verbosity to 10 (on Linux, `export AUTOGRAPH_VERBOSITY=10`) and attach the full output.\n",
      "Cause: module, class, method, function, traceback, frame, or code object was expected, got cython_function_or_method\n",
      "To silence this warning, decorate the function with @tf.autograph.experimental.do_not_convert\n",
      "WARNING: AutoGraph could not transform <bound method Socket.send of <zmq.Socket(zmq.PUSH) at 0x28efe7f0a08>> and will run it as-is.\n",
      "Please report this to the TensorFlow team. When filing the bug, set the verbosity to 10 (on Linux, `export AUTOGRAPH_VERBOSITY=10`) and attach the full output.\n",
      "Cause: module, class, method, function, traceback, frame, or code object was expected, got cython_function_or_method\n",
      "To silence this warning, decorate the function with @tf.autograph.experimental.do_not_convert\n",
      "WARNING:tensorflow:The parameter `return_dict` cannot be set in graph mode and will always be set to `True`.\n",
      "              precision    recall  f1-score   support\n",
      "\n",
      "           0       0.97      0.98      0.98      2792\n",
      "           1       0.96      0.94      0.95      1533\n",
      "           2       0.98      0.96      0.97      1792\n",
      "\n",
      "    accuracy                           0.97      6117\n",
      "   macro avg       0.97      0.96      0.97      6117\n",
      "weighted avg       0.97      0.97      0.97      6117\n",
      "\n"
     ]
    }
   ],
   "source": [
    "import pandas as pd\n",
    "import tensorflow as tf\n",
    "import numpy as np\n",
    "from sklearn.metrics import classification_report\n",
    "\n",
    "tokens = tokenizer(\n",
    "    list(df_test[\"text_changed\"]),\n",
    "    padding=\"max_length\",\n",
    "    truncation=True,\n",
    "    max_length=128,\n",
    "    return_tensors=\"np\"\n",
    ")\n",
    "\n",
    "test_dataset = tf.data.Dataset.from_tensor_slices((\n",
    "    {\n",
    "        \"input_ids\": tf.convert_to_tensor(tokens[\"input_ids\"]),\n",
    "        \"attention_mask\": tf.convert_to_tensor(tokens[\"attention_mask\"])\n",
    "    },\n",
    "    tf.convert_to_tensor(df_test[\"label\"].values)\n",
    ")).batch(48)\n",
    "\n",
    "# Predicción\n",
    "y_logits = model.predict(test_dataset).logits\n",
    "y_pred = np.argmax(y_logits, axis=1)\n",
    "\n",
    "# Evaluación\n",
    "print(classification_report(df_test[\"label\"].values, y_pred))\n"
   ]
  },
  {
   "cell_type": "code",
   "execution_count": 20,
   "id": "249b580b-85a6-4ffa-b838-236723aaf1f1",
   "metadata": {},
   "outputs": [
    {
     "data": {
      "image/png": "[encoded data removed]",
      "text/plain": [
       "<Figure size 640x480 with 2 Axes>"
      ]
     },
     "metadata": {},
     "output_type": "display_data"
    }
   ],
   "source": [
    "from sklearn.metrics import confusion_matrix, ConfusionMatrixDisplay\n",
    "import matplotlib.pyplot as plt\n",
    "import numpy\n",
    "\n",
    "confusion_matrix = confusion_matrix(df_test[\"label\"].values, y_pred)\n",
    "\n",
    "cm_display = ConfusionMatrixDisplay(confusion_matrix = confusion_matrix)\n",
    "\n",
    "cm_display.plot()\n",
    "plt.show()"
   ]
  },
  {
   "cell_type": "code",
   "execution_count": null,
   "id": "eed1b64c-c2f6-48a7-8f80-38cc5bc6a860",
   "metadata": {},
   "outputs": [],
   "source": []
  },
  {
   "cell_type": "code",
   "execution_count": null,
   "id": "a562f2ed-f37a-4584-86d6-a8deed5c998e",
   "metadata": {},
   "outputs": [],
   "source": [
    "    "
   ]
  },
  {
   "cell_type": "code",
   "execution_count": null,
   "id": "2925297c-f6a7-4c9d-b04e-87a220077c6b",
   "metadata": {},
   "outputs": [],
   "source": []
  }
 ],
 "metadata": {
  "kernelspec": {
   "display_name": "Python [conda env:ultima_cosa2_UNIR]",
   "language": "python",
   "name": "conda-env-ultima_cosa2_UNIR-py"
  },
  "language_info": {
   "codemirror_mode": {
    "name": "ipython",
    "version": 3
   },
   "file_extension": ".py",
   "mimetype": "text/x-python",
   "name": "python",
   "nbconvert_exporter": "python",
   "pygments_lexer": "ipython3",
   "version": "3.7.2"
  }
 },
 "nbformat": 4,
 "nbformat_minor": 5
}
